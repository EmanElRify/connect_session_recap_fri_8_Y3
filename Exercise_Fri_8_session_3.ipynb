{
  "nbformat": 4,
  "nbformat_minor": 0,
  "metadata": {
    "colab": {
      "provenance": [],
      "authorship_tag": "ABX9TyNTK4+F8Z+WdbmAvKiRTmTX",
      "include_colab_link": true
    },
    "kernelspec": {
      "name": "python3",
      "display_name": "Python 3"
    },
    "language_info": {
      "name": "python"
    }
  },
  "cells": [
    {
      "cell_type": "markdown",
      "metadata": {
        "id": "view-in-github",
        "colab_type": "text"
      },
      "source": [
        "<a href=\"https://colab.research.google.com/github/EmanElRify/connect_session_recap_fri_8_Y3/blob/main/Exercise_Fri_8_session_3.ipynb\" target=\"_parent\"><img src=\"https://colab.research.google.com/assets/colab-badge.svg\" alt=\"Open In Colab\"/></a>"
      ]
    },
    {
      "cell_type": "code",
      "execution_count": null,
      "metadata": {
        "id": "CyS8XGkdKlVz"
      },
      "outputs": [],
      "source": [
        "# What is the expected output for the following piece of code\n",
        "#ما هو الخرج المتوقع من الكود الاتي\n",
        "for i in range(2, 11, 2):\n",
        "   print(i)\n",
        "\n",
        "# Write a piece of code that stars from a certain point to the\n",
        "# end of it, and identify in a print statement if a number is even or odd\n",
        "# اكتب كود يبدأ من نقطة وينتهي عند نقطة ويطبع اذا كان الاعداد بين النقطتين زوجية ام فرديا\n",
        "\n",
        "\n",
        "\n",
        "\n",
        "\n",
        "\n",
        "\n",
        "\n",
        "\n",
        "\n",
        "\n",
        "\n",
        "\n",
        "\n",
        "\n",
        "\n",
        "\n",
        "\n",
        "\n",
        "\n",
        "\n",
        "\n",
        "\n",
        "\n",
        "\n",
        "\n",
        "\n"
      ]
    },
    {
      "cell_type": "code",
      "source": [],
      "metadata": {
        "id": "ulsiNOMfLQFl"
      },
      "execution_count": null,
      "outputs": []
    },
    {
      "cell_type": "code",
      "source": [
        "# Write a piece of code that stars from a certain point to the\n",
        "# end of it, and identify in a print statement if a number is even or odd\n",
        "# اكتب كود يبدأ من نقطة وينتهي عند نقطة ويطبع اذا كان الاعداد بين النقطتين زوجية ام فرديا\n",
        "start = 0\n",
        "stop = 10\n",
        "odd_number = []\n",
        "even_number = []\n",
        "\n",
        "for i in range(start,stop):\n",
        "   if i % 2 == 0:\n",
        "      print(\"Even number: \", i)\n",
        "      even_number.append(i)\n",
        "   else:\n",
        "      print(\"Odd number: \", i)\n",
        "      odd_number.append(i)\n",
        "print(\"odd numbers are: \",odd_number)\n",
        "print(\"even numbers are: \",even_number)\n"
      ],
      "metadata": {
        "id": "VR1iIY63K5wa"
      },
      "execution_count": null,
      "outputs": []
    },
    {
      "cell_type": "code",
      "source": [
        "name = 5\n",
        "print(f\"My name is {name} \")"
      ],
      "metadata": {
        "id": "p3-6Kc5tLOnr"
      },
      "execution_count": null,
      "outputs": []
    }
  ]
}