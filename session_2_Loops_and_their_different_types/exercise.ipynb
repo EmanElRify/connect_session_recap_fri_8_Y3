{
 "cells": [
  {
   "cell_type": "code",
   "execution_count": 2,
   "metadata": {},
   "outputs": [
    {
     "name": "stdout",
     "output_type": "stream",
     "text": [
      "[10, 20, 30, 40, 50, 60]\n"
     ]
    }
   ],
   "source": [
    "my_list = [10, 20, 30, 40, 50]\n",
    "my_list.append(60)\n",
    "print(my_list)\n",
    "#[10, 20, 30, 40, 50, 60]"
   ]
  },
  {
   "cell_type": "code",
   "execution_count": 3,
   "metadata": {},
   "outputs": [
    {
     "name": "stdout",
     "output_type": "stream",
     "text": [
      "[10, 20, 40, 50, 30]\n"
     ]
    }
   ],
   "source": [
    "my_list = [10, 20, 30, 40, 50, 30]\n",
    "my_list.remove(30)\n",
    "print(my_list)\n",
    "#[10, 20, 30, 40, 50]\n",
    "#[10, 20, 40, 50, 30]\n",
    "#[10, 20, 40, 50]\n"
   ]
  },
  {
   "cell_type": "code",
   "execution_count": null,
   "metadata": {},
   "outputs": [
    {
     "name": "stdout",
     "output_type": "stream",
     "text": [
      "[10, 20, 40, 50, 30]\n",
      "[10, 20, 40, 50]\n"
     ]
    }
   ],
   "source": [
    "my_list = [10, 20, 30, 40, 50, 30]\n",
    "my_list.remove(30)\n",
    "print(my_list)\n",
    "my_list.remove(30)\n",
    "print(my_list)\n"
   ]
  },
  {
   "cell_type": "code",
   "execution_count": null,
   "metadata": {},
   "outputs": [
    {
     "ename": "TypeError",
     "evalue": "list.clear() takes no arguments (1 given)",
     "output_type": "error",
     "traceback": [
      "\u001b[1;31m---------------------------------------------------------------------------\u001b[0m",
      "\u001b[1;31mTypeError\u001b[0m                                 Traceback (most recent call last)",
      "Cell \u001b[1;32mIn [6], line 2\u001b[0m\n\u001b[0;32m      1\u001b[0m my_list \u001b[38;5;241m=\u001b[39m [\u001b[38;5;241m10\u001b[39m, \u001b[38;5;241m20\u001b[39m, \u001b[38;5;241m30\u001b[39m, \u001b[38;5;241m40\u001b[39m, \u001b[38;5;241m50\u001b[39m, \u001b[38;5;241m30\u001b[39m]\n\u001b[1;32m----> 2\u001b[0m \u001b[43mmy_list\u001b[49m\u001b[38;5;241;43m.\u001b[39;49m\u001b[43mclear\u001b[49m\u001b[43m(\u001b[49m\u001b[38;5;241;43m30\u001b[39;49m\u001b[43m)\u001b[49m\n",
      "\u001b[1;31mTypeError\u001b[0m: list.clear() takes no arguments (1 given)"
     ]
    }
   ],
   "source": [
    "my_list = [10, 20, 30, 40, 50, 30]\n",
    "my_list.clear()"
   ]
  },
  {
   "cell_type": "code",
   "execution_count": 7,
   "metadata": {},
   "outputs": [
    {
     "name": "stdout",
     "output_type": "stream",
     "text": [
      "30\n"
     ]
    }
   ],
   "source": [
    "my_list = [10, 20, 30, 40, 50]\n",
    "print(my_list[2])"
   ]
  },
  {
   "cell_type": "code",
   "execution_count": 13,
   "metadata": {},
   "outputs": [
    {
     "name": "stdout",
     "output_type": "stream",
     "text": [
      "[20, 30, 40]\n",
      "[20, 50]\n"
     ]
    }
   ],
   "source": [
    "my_list = [10, 20, 30, 40, 50]\n",
    "print(my_list[1:4])\n",
    "print(my_list[1:2]+ my_list[4:5])\n",
    "#[20, 30, 40, 50]\n",
    "#[20, 30, 40]\n",
    "#[30, 40]\n",
    "#[20, 50]\n",
    "\n"
   ]
  },
  {
   "cell_type": "code",
   "execution_count": 14,
   "metadata": {},
   "outputs": [
    {
     "name": "stdout",
     "output_type": "stream",
     "text": [
      "[5, 20, 30, 40, 50]\n"
     ]
    }
   ],
   "source": [
    "my_list = [10, 20, 30, 40, 50]\n",
    "my_list[0] = 5\n",
    "print(my_list)"
   ]
  },
  {
   "cell_type": "code",
   "execution_count": 15,
   "metadata": {},
   "outputs": [
    {
     "name": "stdout",
     "output_type": "stream",
     "text": [
      "[10, 20, 30, 40, 50, 70, 80, 90]\n"
     ]
    }
   ],
   "source": [
    "my_list = [10, 20, 30, 40, 50]\n",
    "new_list = [70, 80, 90]\n",
    "combined_list = my_list + new_list\n",
    "print(combined_list)\n",
    "#[10, 20, 30, 40, 50, 70, 80, 90]\n",
    "#[10, 70, 20, 80, 30, 90, 50]\n",
    "#[80, 100, 120, 40, 50]\n",
    "\n"
   ]
  },
  {
   "cell_type": "code",
   "execution_count": 25,
   "metadata": {},
   "outputs": [
    {
     "name": "stdout",
     "output_type": "stream",
     "text": [
      "AHmed\n"
     ]
    }
   ],
   "source": [
    "my_list = [5, 2, 1, 4, 'AHmed']\n",
    "print(my_list[4])"
   ]
  },
  {
   "cell_type": "code",
   "execution_count": 24,
   "metadata": {},
   "outputs": [
    {
     "name": "stdout",
     "output_type": "stream",
     "text": [
      "{1, 2, 'AHmed', 4, 5}\n"
     ]
    }
   ],
   "source": [
    "my_set = {5, 2, 1, 4, \"AHmed\"}\n",
    "print(my_set)"
   ]
  },
  {
   "cell_type": "code",
   "execution_count": 27,
   "metadata": {},
   "outputs": [
    {
     "name": "stdout",
     "output_type": "stream",
     "text": [
      "5\n"
     ]
    }
   ],
   "source": [
    "print(len(my_list))"
   ]
  },
  {
   "cell_type": "code",
   "execution_count": null,
   "metadata": {},
   "outputs": [
    {
     "name": "stdout",
     "output_type": "stream",
     "text": [
      "1\n",
      "--------\n",
      "2\n",
      "--------\n",
      "3\n",
      "--------\n",
      "4\n",
      "--------\n",
      "5\n",
      "--------\n"
     ]
    }
   ],
   "source": [
    "x = [1, 2, 3 , 4 , 5]\n",
    "for i in x:\n",
    "   #i = 2\n",
    "   print(i)\n",
    "   print('--------')\n",
    "   \n",
    "   \"\"\"\n",
    "   1\n",
    "   --------\n",
    "   2\n",
    "   --------\n",
    "   \n",
    "   \"\"\"\n",
    "   \n",
    "   \n",
    "   \"\"\"\n",
    "   [1, 2, 3, 4, 5]\n",
    "   \n",
    "   \"\"\"\n",
    "   \n",
    "   \"\"\"\n",
    "   1\n",
    "   --------\n",
    "   2\n",
    "   --------\n",
    "   |\n",
    "   |\n",
    "   5\n",
    "   --------\n",
    "   \"\"\"\n",
    "   \n",
    "   \"\"\"\n",
    "   [1]\n",
    "   --------\n",
    "   [2]\n",
    "   --------\n",
    "   [3]\n",
    "   --------\n",
    "   [4]\n",
    "   --------\n",
    "   [5]\n",
    "   --------\n",
    "   \"\"\"\n",
    "   \n",
    "   \"\"\"\n",
    "   [1]\n",
    "   --------\n",
    "   2\n",
    "   --------\n",
    "   3\n",
    "   --------\n",
    "   4\n",
    "   --------\n",
    "   5\n",
    "   --------\n",
    "   \"\"\"\n",
    "   \n",
    "   \"\"\"\n",
    "   1\n",
    "   2\n",
    "   3\n",
    "   4\n",
    "   5\n",
    "   --------\n",
    "   --------\n",
    "   --------\n",
    "   --------\n",
    "   --------\n",
    "   \"\"\"\n",
    "   \n",
    "   \"\"\"\n",
    "   1 2 3 4 5\n",
    "   ---------\n",
    "   \"\"\"\n",
    "   \n",
    "   \"\"\"\n",
    "   1 2 3 4 5\n",
    "   ---------\n",
    "   1 2 3 4 5\n",
    "   ---------\n",
    "   1 2 3 4 5\n",
    "   ---------\n",
    "   1 2 3 4 5\n",
    "   ---------\n",
    "   1 2 3 4 5\n",
    "   ---------\n",
    "   1 2 3 4 5\n",
    "   ---------\n",
    "   \"\"\"\n",
    "   "
   ]
  },
  {
   "cell_type": "code",
   "execution_count": 29,
   "metadata": {},
   "outputs": [
    {
     "name": "stdout",
     "output_type": "stream",
     "text": [
      "1\n",
      "--------\n",
      "2\n",
      "--------\n",
      "3\n",
      "--------\n",
      "4\n",
      "--------\n"
     ]
    }
   ],
   "source": [
    "x = [1, 2, 3 , 4]\n",
    "for i in x:\n",
    "   print(i)\n",
    "   print('--------')\n"
   ]
  },
  {
   "cell_type": "code",
   "execution_count": null,
   "metadata": {},
   "outputs": [
    {
     "name": "stdout",
     "output_type": "stream",
     "text": [
      "1\n",
      "--------\n",
      "1\n",
      "**\n",
      "2\n",
      "**\n",
      "2\n",
      "--------\n",
      "1\n",
      "**\n",
      "2\n",
      "**\n",
      "3\n",
      "--------\n",
      "1\n",
      "**\n",
      "2\n",
      "**\n",
      "4\n",
      "--------\n",
      "1\n",
      "**\n",
      "2\n",
      "**\n"
     ]
    },
    {
     "data": {
      "text/plain": [
       "'\"\\n1 2\\n**\\n1 \\n-------\\n1 2\\n**\\n2\\n-------\\n1 2\\n**\\n\\n\\n'"
      ]
     },
     "execution_count": 30,
     "metadata": {},
     "output_type": "execute_result"
    }
   ],
   "source": [
    "x = [1, 2, 3 , 4]\n",
    "for i in x:\n",
    "    # i = 3\n",
    "   print(i)\n",
    "   print('--------')\n",
    "   for y in [1,2]:\n",
    "       # y =1\n",
    "       print(y)\n",
    "       print('**')\n",
    "\n",
    "    \"\"\"\n",
    "    1\n",
    "    --------\n",
    "    1\n",
    "    **\n",
    "    2\n",
    "    **\n",
    "    2\n",
    "    --------\n",
    "    1\n",
    "    **\n",
    "    2\n",
    "    **\n",
    "    \n",
    "    \"\"\""
   ]
  },
  {
   "cell_type": "code",
   "execution_count": 34,
   "metadata": {},
   "outputs": [
    {
     "name": "stdout",
     "output_type": "stream",
     "text": [
      "1\n",
      "2\n"
     ]
    }
   ],
   "source": [
    "my_list = [1, 2]\n",
    "# for i in my_list:\n",
    "#     print(i)\n",
    "    \n",
    "index = 0\n",
    "while index < len(my_list):\n",
    "    print(my_list[index])\n",
    "    index = index + 1\n",
    "    "
   ]
  },
  {
   "cell_type": "code",
   "execution_count": null,
   "metadata": {},
   "outputs": [],
   "source": []
  }
 ],
 "metadata": {
  "kernelspec": {
   "display_name": "Python 3",
   "language": "python",
   "name": "python3"
  },
  "language_info": {
   "codemirror_mode": {
    "name": "ipython",
    "version": 3
   },
   "file_extension": ".py",
   "mimetype": "text/x-python",
   "name": "python",
   "nbconvert_exporter": "python",
   "pygments_lexer": "ipython3",
   "version": "3.10.7"
  }
 },
 "nbformat": 4,
 "nbformat_minor": 2
}
