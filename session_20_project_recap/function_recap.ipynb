{
 "cells": [
  {
   "cell_type": "markdown",
   "id": "ba056816",
   "metadata": {},
   "source": [
    "# Understanding Functions in Python\n",
    "\n",
    "In this section, we will explore the concept of functions in Python. Functions are a fundamental building block in programming that allow us to write reusable and organized code.\n",
    "\n",
    "## Key Points About Functions:\n",
    "- A function is a block of code that performs a specific task.\n",
    "- Functions can take input parameters and return output values.\n",
    "- They help in organizing code into logical blocks, making it easier to read and maintain.\n",
    "- Functions reduce code repetition and improve reusability.\n",
    "\n",
    "## Components of a Function:\n",
    "1. **Function Name**: The name used to call the function.\n",
    "2. **Function Parameters**: The inputs that the function accepts.\n",
    "3. **Function Logic**: The block of code that defines what the function does.\n",
    "4. **Function Return**: The output that the function provides after execution.\n",
    "\n",
    "### Example:"
   ]
  },
  {
   "cell_type": "code",
   "execution_count": 5,
   "id": "f907e7e9",
   "metadata": {
    "vscode": {
     "languageId": "markdown"
    }
   },
   "outputs": [
    {
     "ename": "SyntaxError",
     "evalue": "invalid syntax (568282961.py, line 1)",
     "output_type": "error",
     "traceback": [
      "\u001b[1;36m  Cell \u001b[1;32mIn[5], line 1\u001b[1;36m\u001b[0m\n\u001b[1;33m    ```markdown\u001b[0m\n\u001b[1;37m    ^\u001b[0m\n\u001b[1;31mSyntaxError\u001b[0m\u001b[1;31m:\u001b[0m invalid syntax\n"
     ]
    }
   ],
   "source": [
    "```markdown\n",
    "# Understanding Functions in Python\n",
    "\n",
    "In this section, we will explore the concept of **functions** in Python. Functions are a fundamental building block in programming that allow us to write reusable and organized code.\n",
    "\n",
    "## Key Points About Functions:\n",
    "- A function is a block of code that performs a specific task.\n",
    "- Functions can take input parameters and return output values.\n",
    "- They help in organizing code into logical blocks, making it easier to read and maintain.\n",
    "- Functions reduce code repetition and improve reusability.\n",
    "\n",
    "## Components of a Function:\n",
    "1. **Function Name**: The name used to call the function.\n",
    "2. **Function Parameters**: The inputs that the function accepts.\n",
    "3. **Function Logic**: The block of code that defines what the function does.\n",
    "4. **Function Return**: The output that the function provides after execution.\n",
    "\n",
    "### Example:\n",
    "```python\n",
    "def greet(name):\n",
    "    return f\"Hello, {name}!\"\n",
    "\n",
    "print(greet(\"Alice\"))\n",
    "```\n",
    "\n",
    "> **Note:** Functions are a great way to make your code modular and maintainable.\n",
    "\n",
    "### Syntax Highlighting\n",
    "To make your code more readable, use syntax highlighting by enclosing your code in triple backticks (\\`\\`\\`) followed by the language name (e.g., `python`).\n",
    "\n",
    "### Adding Colors\n",
    "Markdown itself does not support colors directly, but you can use HTML tags for customization. For example:\n",
    "<span style=\"color:blue\">This text is blue.</span>  \n",
    "<span style=\"color:green; font-weight:bold\">This text is bold and green.</span>\n",
    "\n",
    "### Highlighting Text\n",
    "To highlight text, you can use backticks (\\`) for inline code or blockquotes (\\>) for emphasis:\n",
    "- Inline code: `highlighted text`\n",
    "- Blockquote:  \n",
    "  > This is a highlighted block of text.\n",
    "```"
   ]
  },
  {
   "cell_type": "markdown",
   "id": "4de07956",
   "metadata": {},
   "source": []
  },
  {
   "cell_type": "code",
   "execution_count": null,
   "id": "cf293439",
   "metadata": {
    "vscode": {
     "languageId": "markdown"
    }
   },
   "outputs": [
    {
     "ename": "SyntaxError",
     "evalue": "invalid syntax (3680212240.py, line 3)",
     "output_type": "error",
     "traceback": [
      "\u001b[1;36m  Cell \u001b[1;32mIn[3], line 3\u001b[1;36m\u001b[0m\n\u001b[1;33m    In this section, we will explore the concept of functions in Python. Functions are a fundamental building block in programming that allow us to write reusable and organized code.\u001b[0m\n\u001b[1;37m       ^\u001b[0m\n\u001b[1;31mSyntaxError\u001b[0m\u001b[1;31m:\u001b[0m invalid syntax\n"
     ]
    }
   ],
   "source": []
  },
  {
   "cell_type": "markdown",
   "id": "e23b160a",
   "metadata": {},
   "source": [
    "```markdown\n",
    "# Understanding Functions in Python\n",
    "\n",
    "In this section, we will explore the concept of **functions** in Python. Functions are a fundamental building block in programming that allow us to write reusable and organized code.\n",
    "\n",
    "## Key Points About Functions:\n",
    "- A function is a block of code that performs a specific task.\n",
    "- Functions can take input parameters and return output values.\n",
    "- They help in organizing code into logical blocks, making it easier to read and maintain.\n",
    "- Functions reduce code repetition and improve reusability.\n",
    "\n",
    "## Components of a Function:\n",
    "1. **Function Name**: `The name used to call the function.`\n",
    "2. **Function Parameters**: The inputs that the function accepts.\n",
    "3. **Function Logic**: The block of code that defines what the function does.\n",
    "4. **Function Return**: The output that the function provides after execution.\n",
    "\n",
    "### Example:\n",
    "```python\n",
    "def greet(name):\n",
    "    return f\"Hello, {name}!\"\n",
    "\n",
    "print(greet(\"Alice\"))\n",
    "```\n",
    "\n",
    "> **Note:** Functions are a great way to make your code modular and maintainable.\n"
   ]
  },
  {
   "cell_type": "code",
   "execution_count": null,
   "id": "e8709907",
   "metadata": {},
   "outputs": [],
   "source": [
    "\n",
    "\n",
    "def add_two_numbers(x, y):\n",
    "    value = x+y\n",
    "    return value\n",
    "\n",
    "# Also\n",
    "# def add_wo_numbers(x, y):\n",
    "#     return x+y\n",
    "\n",
    "x = add_two_numbers(3, 4)\n",
    "\n",
    "# For the above example, we can identify the components of the function\n",
    "# Function name: add_two_numbers\n",
    "# Function parameters: takes two arguments upon function call: x and y (BOTH SHOULD BE NUMERIC VALUES)\n",
    "# Function logic: Adds the arguments passed together\n",
    "# Function return: Expects to return one value (summation of passed arguments)\n",
    "\n",
    "\n",
    "\n",
    "def get_average(numbers):\n",
    "    return sum(numbers) / len(numbers)\n",
    "\n",
    "# For the above example, we can identify the components of the function\n",
    "# Function name: get_average\n",
    "# Function parameters: takes one argument upon function call: numbers (SHOULD BE A LIST OF NUMERIC VALUES)\n",
    "# Function logic: Returns the average by summing the list elements and dividing them by the number of elements.\n",
    "# Function return: Expects to return one value (average of passed arguments)\n",
    "\n",
    "x = get_average([1,2,3,4,5,6])\n",
    "\n",
    "\n",
    "\n",
    "\n",
    "# Multi value return function\n",
    "def square_two_numbers(x,y):\n",
    "    return x**2, y**2\n",
    "\n",
    "# For the above example, we can identify the components of the function\n",
    "# Function name: square_two_numbers\n",
    "# Function parameters: akes two arguments upon function call: x and y (BOTH SHOULD BE NUMERIC VALUES)\n",
    "# Function logic: Returns the square of the arguments passed to the function\n",
    "# Function return: Expects to return TWO values (square of both numebrs)\n",
    "\n",
    "\n",
    "# For multi-value return functions show them students how the function should be called\n",
    "\n",
    "num1, num2 = square_two_numbers(2,3)\n",
    "# Notice here that the function call that has 2 returns needs to have values stored in \n",
    "# variables with the same number of return values\n",
    "\n",
    "\n",
    "\n",
    "\n",
    "\n",
    "# Exercises drive by students participation\n",
    "\n",
    "def get_longest_string(strings):\n",
    "    longest_string = \"\"\n",
    "    for string in strings:\n",
    "        if len(string) > len(longest_string):\n",
    "            longest_string = string\n",
    "    return longest_string\n",
    "\n",
    "# For the above example, Ask the students to indentify the function components\n",
    "# Function name?\n",
    "# Function parameters?\n",
    "# Function logic?\n",
    "# Function return?\n",
    "\n",
    "\n",
    "\n",
    "\n",
    "# ANSWER\n",
    "# Function name: longest_string\n",
    "# Function parameters: takes one argument upon function call: strings (SHOULD BE A LIST OF STRINGS)\n",
    "# Function logic: Stores the longest string from the passed arguments in a variable to return the longest string\n",
    "# Function return: Returns one value that is of string format\n",
    "x = get_longest_string([\"THIS IS\", \"THE LONGEST STRING\", \"Hello\"])"
   ]
  }
 ],
 "metadata": {
  "kernelspec": {
   "display_name": "Python 3",
   "language": "python",
   "name": "python3"
  },
  "language_info": {
   "codemirror_mode": {
    "name": "ipython",
    "version": 3
   },
   "file_extension": ".py",
   "mimetype": "text/x-python",
   "name": "python",
   "nbconvert_exporter": "python",
   "pygments_lexer": "ipython3",
   "version": "3.13.1"
  }
 },
 "nbformat": 4,
 "nbformat_minor": 5
}
