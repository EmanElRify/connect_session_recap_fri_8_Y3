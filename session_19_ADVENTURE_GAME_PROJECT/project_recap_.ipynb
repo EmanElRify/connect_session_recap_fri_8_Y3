{
 "cells": [
  {
   "cell_type": "code",
   "execution_count": 1,
   "metadata": {},
   "outputs": [
    {
     "name": "stdout",
     "output_type": "stream",
     "text": [
      "1 2 3 4\n"
     ]
    }
   ],
   "source": [
    "print(1, 2, 3, 4)"
   ]
  },
  {
   "cell_type": "code",
   "execution_count": 1,
   "metadata": {},
   "outputs": [
    {
     "name": "stdout",
     "output_type": "stream",
     "text": [
      "Defaulting to user installation because normal site-packages is not writeableNote: you may need to restart the kernel to use updated packages.\n",
      "\n",
      "Requirement already satisfied: pandas in c:\\users\\admin\\appdata\\local\\packages\\pythonsoftwarefoundation.python.3.12_qbz5n2kfra8p0\\localcache\\local-packages\\python312\\site-packages (2.2.3)\n",
      "Requirement already satisfied: numpy>=1.26.0 in c:\\users\\admin\\appdata\\local\\packages\\pythonsoftwarefoundation.python.3.12_qbz5n2kfra8p0\\localcache\\local-packages\\python312\\site-packages (from pandas) (2.2.3)\n",
      "Requirement already satisfied: python-dateutil>=2.8.2 in c:\\users\\admin\\appdata\\local\\packages\\pythonsoftwarefoundation.python.3.12_qbz5n2kfra8p0\\localcache\\local-packages\\python312\\site-packages (from pandas) (2.9.0.post0)\n",
      "Requirement already satisfied: pytz>=2020.1 in c:\\users\\admin\\appdata\\local\\packages\\pythonsoftwarefoundation.python.3.12_qbz5n2kfra8p0\\localcache\\local-packages\\python312\\site-packages (from pandas) (2025.1)\n",
      "Requirement already satisfied: tzdata>=2022.7 in c:\\users\\admin\\appdata\\local\\packages\\pythonsoftwarefoundation.python.3.12_qbz5n2kfra8p0\\localcache\\local-packages\\python312\\site-packages (from pandas) (2025.1)\n",
      "Requirement already satisfied: six>=1.5 in c:\\users\\admin\\appdata\\local\\packages\\pythonsoftwarefoundation.python.3.12_qbz5n2kfra8p0\\localcache\\local-packages\\python312\\site-packages (from python-dateutil>=2.8.2->pandas) (1.17.0)\n"
     ]
    }
   ],
   "source": [
    "pip install pandas"
   ]
  },
  {
   "cell_type": "code",
   "execution_count": null,
   "metadata": {},
   "outputs": [],
   "source": [
    "import time\n",
    "import random \n",
    "def print_pause(*s):\n",
    "    for word in s:\n",
    "        print(word) \n",
    "        time.sleep(2) \n",
    "        \n",
    "print_pause(\"The game starts\", \"You are on an isolated island\")\n",
    "\n",
    "\n",
    "\n",
    "\n"
   ]
  },
  {
   "cell_type": "code",
   "execution_count": 11,
   "metadata": {},
   "outputs": [
    {
     "name": "stdout",
     "output_type": "stream",
     "text": [
      "The game start\n"
     ]
    },
    {
     "name": "stdout",
     "output_type": "stream",
     "text": [
      "The game start\n",
      "Thanks for your Time!\n"
     ]
    }
   ],
   "source": [
    "flag = ''\n",
    "while flag not in ['no', 'n']:    \n",
    "    print(\"The game start\")\n",
    "    expected_input = ['yes', 'no', 'n', 'y']\n",
    "    flag = input(\"Do you want to play again? [y,n]\").lower()\n",
    "    while flag not in expected_input:\n",
    "        print(\"Please enter a valid input\")\n",
    "        flag = input(\"Do you want to play again? [y,n]\").lower()\n",
    "    if flag in [\"no\", \"n\"]:\n",
    "        print(\"Thanks for your Time!\")\n"
   ]
  },
  {
   "cell_type": "code",
   "execution_count": null,
   "metadata": {},
   "outputs": [
    {
     "name": "stdout",
     "output_type": "stream",
     "text": [
      "The game start\n",
      "The game start\n",
      "Thanks for your Time!\n"
     ]
    }
   ],
   "source": [
    "while True:    \n",
    "    print(\"The game starts\")\n",
    "    expected_input = ['yes', 'no', 'n', 'y']\n",
    "    flag = input(\"Do you want to play again? [y,n]\").lower()\n",
    "    while flag not in expected_input:\n",
    "        print(\"Please enter a valid input\")\n",
    "        flag = input(\"Do you want to play again? [y,n]\").lower()\n",
    "    if flag in [\"no\", \"n\"]:\n",
    "        print(\"Thanks for your Time!\")\n",
    "        break"
   ]
  },
  {
   "cell_type": "code",
   "execution_count": 4,
   "metadata": {},
   "outputs": [],
   "source": [
    "import time\n",
    "\n",
    "def print_pause(msg):\n",
    "    print(msg)\n",
    "    time.sleep(2)\n"
   ]
  },
  {
   "cell_type": "code",
   "execution_count": null,
   "metadata": {},
   "outputs": [
    {
     "name": "stdout",
     "output_type": "stream",
     "text": [
      "Sama\n",
      "Sama\n",
      "Sama\n"
     ]
    }
   ],
   "source": [
    "print_pause(\"Sama\")\n",
    "print_pause(\"Sama\")\n",
    "print_pause(\"Sama\")"
   ]
  },
  {
   "cell_type": "code",
   "execution_count": null,
   "metadata": {},
   "outputs": [
    {
     "name": "stdout",
     "output_type": "stream",
     "text": [
      "Welcom to CIB \n",
      "Do you want to open a bank account? [y/n]\n"
     ]
    }
   ],
   "source": [
    "import random\n",
    "import time\n",
    "banks = [\"CIB\", \"NBE\"]\n",
    "print_pause(f\"Welcom to {random.choice(banks)} \")\n",
    "print_pause(\"Do you want to open a bank account? [y/n]\")\n",
    "service = input(\"Do you want to open a bank account? [y/n]\")\n",
    "while service not in ['y', 'n', 'yes', 'no']:\n",
    "    service = input(\"Do you want to open a\"\n",
    "                    \" bank account? [y/n]\")\n",
    "if service == 'y' or service == 'yes':\n",
    "    name = input(\"Please, Enter your name: \")\n",
    "    while len(name) == 0:\n",
    "        name = input(\"Please, Enter a valid name\"\n",
    "                     \" at least 0ne character: \")\n",
    "        \n",
    "def deposit(balance, initial_balance):\n",
    "    \"\"\"\n",
    "    \n",
    "    @\n",
    "    \"\"\"\n",
    "    pass\n",
    "   "
   ]
  },
  {
   "cell_type": "code",
   "execution_count": 27,
   "metadata": {},
   "outputs": [
    {
     "name": "stdout",
     "output_type": "stream",
     "text": [
      "You are going to the mansion of a prince\n",
      "A beast opened the door\n"
     ]
    }
   ],
   "source": [
    "import random\n",
    "import time\n",
    "\n",
    "def beast():\n",
    "    pass\n",
    "\n",
    "\n",
    "def voice():\n",
    "    # \n",
    "    pass\n",
    "\n",
    "\n",
    "horror = ['A beast opened the door', 'You heard a voice']\n",
    "item = random.choice(horror)\n",
    "print_pause(\"You are going to the mansion of a prince\")\n",
    "print_pause(item)\n",
    "if \"beast\" in item:\n",
    "    beast()\n",
    "else:\n",
    "    voice()"
   ]
  },
  {
   "cell_type": "code",
   "execution_count": 4,
   "metadata": {},
   "outputs": [
    {
     "name": "stdout",
     "output_type": "stream",
     "text": [
      "Hello World\n",
      "Hello\n",
      "World\n"
     ]
    }
   ],
   "source": [
    "print(\"Hello\", \"World\")\n",
    "print_pause(\"Hello\", \"World\")"
   ]
  },
  {
   "cell_type": "code",
   "execution_count": null,
   "metadata": {},
   "outputs": [
    {
     "name": "stdout",
     "output_type": "stream",
     "text": [
      "You have 3 apples\n",
      "You have 3 apples\n",
      "You have 3 apples\n",
      "You have 3 apples\n"
     ]
    }
   ],
   "source": [
    "n = int(input(\"How many apples do you have?\"))\n",
    "print(\"You have \" + str(n) + \" apples\")\n",
    "print(f\"You have {n} apples\") #use this\n",
    "print(\"You have {} apples\".format(n))\n",
    "print(\"You have %d apples\"%(n))"
   ]
  },
  {
   "cell_type": "code",
   "execution_count": 17,
   "metadata": {},
   "outputs": [
    {
     "name": "stdout",
     "output_type": "stream",
     "text": [
      "the game starts\n",
      "the game starts\n",
      "the game starts\n",
      "the game starts\n"
     ]
    }
   ],
   "source": [
    "while True: \n",
    "    #repeat the game until a condition is True\n",
    "    print(\"the game starts\")\n",
    "    flag = input(\"Do you want to play again? [n/y]\")\n",
    "    flag = flag.lower()\n",
    "    while flag not in ['yes', 'no', 'n', 'y']: \n",
    "        # handling the invalid inputs\n",
    "        flag = input(\"Do you want to play again? [n/y]\")\n",
    "        flag = flag.lower()\n",
    "    if flag == 'n' or flag == 'no': \n",
    "        # a condition to break the game\n",
    "        break\n",
    "    "
   ]
  },
  {
   "cell_type": "code",
   "execution_count": 22,
   "metadata": {},
   "outputs": [
    {
     "name": "stdout",
     "output_type": "stream",
     "text": [
      "Hello, World\n",
      "Hello World\n"
     ]
    }
   ],
   "source": [
    "s1 = \"Hello,\"\n",
    "s2 = \" World\"\n",
    "print(s1 + s2)\n",
    "print(\"Hello\"\n",
    "      \" World\")"
   ]
  },
  {
   "cell_type": "code",
   "execution_count": 11,
   "metadata": {},
   "outputs": [
    {
     "name": "stdout",
     "output_type": "stream",
     "text": [
      "Hello,. You are 15 years old.\n"
     ]
    }
   ],
   "source": [
    "age = 15\n",
    "formatted_string = \"Hello,. You are %d years old.\" % ( age) \n",
    "print(formatted_string)"
   ]
  },
  {
   "cell_type": "code",
   "execution_count": 23,
   "metadata": {},
   "outputs": [
    {
     "name": "stdout",
     "output_type": "stream",
     "text": [
      "1\n"
     ]
    }
   ],
   "source": [
    "n = input(\"Choose 1 or 2\\n\")\n",
    "while n not in [\"1\", \"2\"]:\n",
    "    n = input(\"Choose 1 or 2\\n\")\n",
    "print(n)"
   ]
  },
  {
   "cell_type": "code",
   "execution_count": null,
   "metadata": {},
   "outputs": [],
   "source": [
    "def game():\n",
    "    pass\n"
   ]
  },
  {
   "cell_type": "code",
   "execution_count": 16,
   "metadata": {},
   "outputs": [
    {
     "name": "stdout",
     "output_type": "stream",
     "text": [
      "Hello, World\n"
     ]
    }
   ],
   "source": [
    "print(\"Hello, \" \n",
    "       \"World\")"
   ]
  },
  {
   "cell_type": "code",
   "execution_count": null,
   "metadata": {},
   "outputs": [],
   "source": [
    "def cave(score):\n",
    "    n = 2\n",
    "    if n ==2:\n",
    "        score += 1\n",
    "    return score\n",
    "\n",
    "def house():\n",
    "    pass\n",
    "\n",
    "def main():\n",
    "    total_score = 0\n",
    "    n = input(\"please enter 1 or 2\")\n",
    "    if n == '1':\n",
    "        total_score = cave(total_score)\n",
    "    else:\n",
    "        house()\n",
    "        "
   ]
  }
 ],
 "metadata": {
  "kernelspec": {
   "display_name": "Python 3",
   "language": "python",
   "name": "python3"
  },
  "language_info": {
   "codemirror_mode": {
    "name": "ipython",
    "version": 3
   },
   "file_extension": ".py",
   "mimetype": "text/x-python",
   "name": "python",
   "nbconvert_exporter": "python",
   "pygments_lexer": "ipython3",
   "version": "3.12.9"
  }
 },
 "nbformat": 4,
 "nbformat_minor": 2
}
